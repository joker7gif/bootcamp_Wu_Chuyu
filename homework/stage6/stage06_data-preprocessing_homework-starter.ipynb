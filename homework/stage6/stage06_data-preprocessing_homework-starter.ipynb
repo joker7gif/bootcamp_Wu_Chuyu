{
 "cells": [
  {
   "cell_type": "markdown",
   "metadata": {},
   "source": [
    "# Homework Starter — Stage 6: Data Preprocessing\n",
    "Use this notebook to apply your cleaning functions and save processed data."
   ]
  },
  {
   "cell_type": "code",
   "execution_count": 11,
   "metadata": {},
   "outputs": [
    {
     "name": "stdout",
     "output_type": "stream",
     "text": [
      "['c:\\\\Users\\\\go199\\\\anaconda3\\\\envs\\\\stage2\\\\python311.zip', 'c:\\\\Users\\\\go199\\\\anaconda3\\\\envs\\\\stage2\\\\DLLs', 'c:\\\\Users\\\\go199\\\\anaconda3\\\\envs\\\\stage2\\\\Lib', 'c:\\\\Users\\\\go199\\\\anaconda3\\\\envs\\\\stage2', '', 'c:\\\\Users\\\\go199\\\\anaconda3\\\\envs\\\\stage2\\\\Lib\\\\site-packages', 'c:\\\\Users\\\\go199\\\\anaconda3\\\\envs\\\\stage2\\\\Lib\\\\site-packages\\\\win32', 'c:\\\\Users\\\\go199\\\\anaconda3\\\\envs\\\\stage2\\\\Lib\\\\site-packages\\\\win32\\\\lib', 'c:\\\\Users\\\\go199\\\\anaconda3\\\\envs\\\\stage2\\\\Lib\\\\site-packages\\\\Pythonwin']\n",
      "   numeric_col  price\n",
      "0          1.0   10.0\n",
      "1          2.0   30.0\n",
      "2          2.0   30.0\n",
      "3          4.0   40.0\n"
     ]
    }
   ],
   "source": [
    "\n",
    "import sys\n",
    "print(sys.path)  # 确认项目根目录在路径中\n",
    "\n",
    "\n",
    "\n",
    "import importlib\n",
    "import src.cleaning as cleaning\n",
    "importlib.reload(cleaning)\n",
    "\n",
    "\n",
    "# 试用\n",
    "import pandas as pd\n",
    "df = pd.DataFrame({\n",
    "    'numeric_col': [1, 2, None, 4],\n",
    "    'price': [10, None, 30, 40]\n",
    "})\n",
    "\n",
    "df = cleaning.fill_missing_median(df, ['numeric_col', 'price'])\n",
    "print(df)\n"
   ]
  },
  {
   "cell_type": "code",
   "execution_count": 12,
   "metadata": {},
   "outputs": [],
   "source": [
    "import pandas as pd\n",
    "from src import cleaning\n",
    "\n"
   ]
  },
  {
   "cell_type": "markdown",
   "metadata": {},
   "source": [
    "## Load Raw Dataset"
   ]
  },
  {
   "cell_type": "code",
   "execution_count": 13,
   "metadata": {},
   "outputs": [
    {
     "data": {
      "text/html": [
       "<div>\n",
       "<style scoped>\n",
       "    .dataframe tbody tr th:only-of-type {\n",
       "        vertical-align: middle;\n",
       "    }\n",
       "\n",
       "    .dataframe tbody tr th {\n",
       "        vertical-align: top;\n",
       "    }\n",
       "\n",
       "    .dataframe thead th {\n",
       "        text-align: right;\n",
       "    }\n",
       "</style>\n",
       "<table border=\"1\" class=\"dataframe\">\n",
       "  <thead>\n",
       "    <tr style=\"text-align: right;\">\n",
       "      <th></th>\n",
       "      <th>numeric_col</th>\n",
       "      <th>category_col</th>\n",
       "      <th>price</th>\n",
       "      <th>date_str</th>\n",
       "      <th>category</th>\n",
       "    </tr>\n",
       "  </thead>\n",
       "  <tbody>\n",
       "    <tr>\n",
       "      <th>0</th>\n",
       "      <td>10.0</td>\n",
       "      <td>A</td>\n",
       "      <td>$100</td>\n",
       "      <td>2025-08-01</td>\n",
       "      <td>Electronics</td>\n",
       "    </tr>\n",
       "    <tr>\n",
       "      <th>1</th>\n",
       "      <td>NaN</td>\n",
       "      <td>B</td>\n",
       "      <td>$200</td>\n",
       "      <td>2025-08-02</td>\n",
       "      <td>Furniture</td>\n",
       "    </tr>\n",
       "    <tr>\n",
       "      <th>2</th>\n",
       "      <td>40.0</td>\n",
       "      <td>A</td>\n",
       "      <td>$150</td>\n",
       "      <td>NaN</td>\n",
       "      <td>Toys</td>\n",
       "    </tr>\n",
       "    <tr>\n",
       "      <th>3</th>\n",
       "      <td>55.0</td>\n",
       "      <td>B</td>\n",
       "      <td>NaN</td>\n",
       "      <td>2025-08-04</td>\n",
       "      <td>Clothing</td>\n",
       "    </tr>\n",
       "    <tr>\n",
       "      <th>4</th>\n",
       "      <td>70.0</td>\n",
       "      <td>C</td>\n",
       "      <td>$250</td>\n",
       "      <td>2025-08-05</td>\n",
       "      <td>NaN</td>\n",
       "    </tr>\n",
       "  </tbody>\n",
       "</table>\n",
       "</div>"
      ],
      "text/plain": [
       "   numeric_col category_col price    date_str     category\n",
       "0         10.0            A  $100  2025-08-01  Electronics\n",
       "1          NaN            B  $200  2025-08-02    Furniture\n",
       "2         40.0            A  $150         NaN         Toys\n",
       "3         55.0            B   NaN  2025-08-04     Clothing\n",
       "4         70.0            C  $250  2025-08-05          NaN"
      ]
     },
     "execution_count": 13,
     "metadata": {},
     "output_type": "execute_result"
    }
   ],
   "source": [
    "df = pd.read_csv('data/instructor_dirty.csv')\n",
    "df.head()"
   ]
  },
  {
   "cell_type": "markdown",
   "metadata": {},
   "source": [
    "## Apply Cleaning Functions"
   ]
  },
  {
   "cell_type": "code",
   "execution_count": 14,
   "metadata": {},
   "outputs": [
    {
     "name": "stdout",
     "output_type": "stream",
     "text": [
      "清洗完成后的数据：\n",
      "   numeric_col category_col  price    date_str     category\n",
      "0         10.0            A  100.0  2025-08-01  Electronics\n",
      "1         47.5            B  200.0  2025-08-02    Furniture\n",
      "2         40.0            A  150.0         NaN         Toys\n",
      "3         55.0            B  175.0  2025-08-04     Clothing\n",
      "4         70.0            C  250.0  2025-08-05          NaN\n"
     ]
    }
   ],
   "source": [
    "import importlib\n",
    "from src import cleaning\n",
    "importlib.reload(cleaning)  # 确保加载最新 cleaning.py\n",
    "\n",
    "# 1. 将 price 列转换为数值（去掉美元符号）\n",
    "df['price'] = df['price'].replace('[\\$,]', '', regex=True).astype(float)\n",
    "\n",
    "# 2. 用中位数填补缺失值（只对数值列）\n",
    "df = cleaning.fill_missing_median(df, ['numeric_col', 'price'])\n",
    "\n",
    "# 3. 删除缺失比例超过50%的行\n",
    "df = cleaning.drop_missing(df, threshold=0.5)\n",
    "\n",
    "\n",
    "\n",
    "# 输出清洗结果（可选）\n",
    "print(\"清洗完成后的数据：\")\n",
    "print(df)\n"
   ]
  },
  {
   "cell_type": "markdown",
   "metadata": {},
   "source": [
    "## Save Cleaned Dataset"
   ]
  },
  {
   "cell_type": "code",
   "execution_count": 15,
   "metadata": {},
   "outputs": [
    {
     "name": "stdout",
     "output_type": "stream",
     "text": [
      "清洗完成，文件已保存到 data/processed.csv\n"
     ]
    }
   ],
   "source": [
    "df.to_csv('data/processed.csv', index=False)\n",
    "\n",
    "print(\"清洗完成，文件已保存到 data/processed.csv\")\n"
   ]
  }
 ],
 "metadata": {
  "kernelspec": {
   "display_name": "stage2",
   "language": "python",
   "name": "python3"
  },
  "language_info": {
   "codemirror_mode": {
    "name": "ipython",
    "version": 3
   },
   "file_extension": ".py",
   "mimetype": "text/x-python",
   "name": "python",
   "nbconvert_exporter": "python",
   "pygments_lexer": "ipython3",
   "version": "3.11.13"
  }
 },
 "nbformat": 4,
 "nbformat_minor": 2
}
