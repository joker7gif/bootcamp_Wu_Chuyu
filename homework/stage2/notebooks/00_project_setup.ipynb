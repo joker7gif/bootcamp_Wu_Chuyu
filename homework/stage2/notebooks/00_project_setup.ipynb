{
 "cells": [
  {
   "cell_type": "markdown",
   "id": "5e07e561",
   "metadata": {},
   "source": [
    "# “Environment & Config Check”"
   ]
  },
  {
   "cell_type": "code",
   "execution_count": 3,
   "id": "aee2d177",
   "metadata": {},
   "outputs": [
    {
     "name": "stdout",
     "output_type": "stream",
     "text": [
      "API Key: dummy_key_123\n"
     ]
    }
   ],
   "source": [
    "from dotenv import load_dotenv \n",
    "import os \n",
    "load_dotenv() \n",
    "api_key = os.getenv(\"API_KEY\") \n",
    "print(f\"API Key: {api_key}\")  # This will print the API key if it is set in the .env file\n",
    "if not api_key:\n",
    "    print(\"API Key not found. Please set it in the .env file.\")\n"
   ]
  },
  {
   "cell_type": "code",
   "execution_count": 4,
   "id": "b319efb9",
   "metadata": {},
   "outputs": [
    {
     "name": "stdout",
     "output_type": "stream",
     "text": [
      "[5 7 9]\n"
     ]
    }
   ],
   "source": [
    "import numpy as np\n",
    "a= np.array([1, 2, 3])\n",
    "b= np.array([4, 5, 6])\n",
    "c= a + b\n",
    "print(c)  # This will print the result of the addition\n",
    "\n",
    "\n",
    "\n"
   ]
  }
 ],
 "metadata": {
  "kernelspec": {
   "display_name": "stage2",
   "language": "python",
   "name": "python3"
  },
  "language_info": {
   "codemirror_mode": {
    "name": "ipython",
    "version": 3
   },
   "file_extension": ".py",
   "mimetype": "text/x-python",
   "name": "python",
   "nbconvert_exporter": "python",
   "pygments_lexer": "ipython3",
   "version": "3.11.13"
  }
 },
 "nbformat": 4,
 "nbformat_minor": 5
}
