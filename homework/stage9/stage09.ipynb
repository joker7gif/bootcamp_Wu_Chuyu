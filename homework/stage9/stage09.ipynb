{
 "cells": [
  {
   "cell_type": "markdown",
   "metadata": {},
   "source": [
    "# Stage 09 — Homework Starter Notebook\n",
    "\n",
    "In the lecture, we learned how to create engineered features. Now it’s your turn to apply those ideas to your own project data."
   ]
  },
  {
   "cell_type": "code",
   "execution_count": 5,
   "metadata": {},
   "outputs": [
    {
     "data": {
      "text/html": [
       "<div>\n",
       "<style scoped>\n",
       "    .dataframe tbody tr th:only-of-type {\n",
       "        vertical-align: middle;\n",
       "    }\n",
       "\n",
       "    .dataframe tbody tr th {\n",
       "        vertical-align: top;\n",
       "    }\n",
       "\n",
       "    .dataframe thead th {\n",
       "        text-align: right;\n",
       "    }\n",
       "</style>\n",
       "<table border=\"1\" class=\"dataframe\">\n",
       "  <thead>\n",
       "    <tr style=\"text-align: right;\">\n",
       "      <th></th>\n",
       "      <th>income</th>\n",
       "      <th>monthly_spend</th>\n",
       "      <th>credit_score</th>\n",
       "    </tr>\n",
       "  </thead>\n",
       "  <tbody>\n",
       "    <tr>\n",
       "      <th>0</th>\n",
       "      <td>86460</td>\n",
       "      <td>3129</td>\n",
       "      <td>661</td>\n",
       "    </tr>\n",
       "    <tr>\n",
       "      <th>1</th>\n",
       "      <td>66002</td>\n",
       "      <td>1191</td>\n",
       "      <td>668</td>\n",
       "    </tr>\n",
       "    <tr>\n",
       "      <th>2</th>\n",
       "      <td>74681</td>\n",
       "      <td>1237</td>\n",
       "      <td>734</td>\n",
       "    </tr>\n",
       "    <tr>\n",
       "      <th>3</th>\n",
       "      <td>93613</td>\n",
       "      <td>2581</td>\n",
       "      <td>712</td>\n",
       "    </tr>\n",
       "    <tr>\n",
       "      <th>4</th>\n",
       "      <td>88013</td>\n",
       "      <td>1296</td>\n",
       "      <td>712</td>\n",
       "    </tr>\n",
       "  </tbody>\n",
       "</table>\n",
       "</div>"
      ],
      "text/plain": [
       "   income  monthly_spend  credit_score\n",
       "0   86460           3129           661\n",
       "1   66002           1191           668\n",
       "2   74681           1237           734\n",
       "3   93613           2581           712\n",
       "4   88013           1296           712"
      ]
     },
     "execution_count": 5,
     "metadata": {},
     "output_type": "execute_result"
    }
   ],
   "source": [
    "import pandas as pd\n",
    "import numpy as np\n",
    "\n",
    "# Example synthetic data (replace with your project dataset)\n",
    "np.random.seed(0)\n",
    "n = 100\n",
    "df = pd.DataFrame({\n",
    "    'income': np.random.normal(60000, 15000, n).astype(int),\n",
    "    'monthly_spend': np.random.normal(2000, 600, n).astype(int),\n",
    "    'credit_score': np.random.normal(680, 50, n).astype(int)\n",
    "})\n",
    "df.head()"
   ]
  },
  {
   "cell_type": "markdown",
   "metadata": {},
   "source": [
    "## TODO: Implement at least 2 engineered features here"
   ]
  },
  {
   "cell_type": "code",
   "execution_count": 6,
   "metadata": {},
   "outputs": [],
   "source": [
    "# 1. 消费/收入比\n",
    "df['spend_income_ratio'] = df['monthly_spend'] / df['income']\n",
    "\n",
    "# 2. 信用加权消费（高信用分的消费被放大）\n",
    "df['credit_weighted_spend'] = df['monthly_spend'] * df['credit_score']\n",
    "\n"
   ]
  },
  {
   "cell_type": "markdown",
   "metadata": {},
   "source": [
    "### Rationale for Feature 1\n",
    "Explain why this feature may help a model. Reference your EDA."
   ]
  },
  {
   "cell_type": "code",
   "execution_count": null,
   "metadata": {},
   "outputs": [],
   "source": [
    "### Rationale for Feature 1\n",
    "\n",
    "#The **spend\\_income\\_ratio** captures how much of a person’s income is allocated to spending.\n",
    "\n",
    "#If exploratory data analysis (EDA) shows wide variation in this ratio, it can help the model detect financial stress levels.\n",
    "#A higher ratio may indicate potential risk (spending beyond means), while a lower ratio suggests better saving or budget control.\n",
    "\n",
    "---\n"
   ]
  },
  {
   "cell_type": "markdown",
   "metadata": {},
   "source": [
    "### Rationale for Feature 2\n",
    "Explain why this feature may help a model. Reference your EDA."
   ]
  },
  {
   "cell_type": "code",
   "execution_count": null,
   "id": "ebbe083b",
   "metadata": {},
   "outputs": [],
   "source": [
    "\n",
    "### Rationale for Feature 2\n",
    "\n",
    "#The **credit\\_weighted\\_spend** combines spending amount with credit score.\n",
    "\n",
    "#If EDA indicates that high-credit individuals have different spending patterns, this feature can highlight those differences.\n",
    "#It allows the model to identify segments such as high-credit, high-spend customers (likely low risk) versus low-credit, high-spend customers (potentially higher risk).\n"
   ]
  }
 ],
 "metadata": {
  "kernelspec": {
   "display_name": "stage2",
   "language": "python",
   "name": "python3"
  },
  "language_info": {
   "codemirror_mode": {
    "name": "ipython",
    "version": 3
   },
   "file_extension": ".py",
   "mimetype": "text/x-python",
   "name": "python",
   "nbconvert_exporter": "python",
   "pygments_lexer": "ipython3",
   "version": "3.11.13"
  }
 },
 "nbformat": 4,
 "nbformat_minor": 5
}
