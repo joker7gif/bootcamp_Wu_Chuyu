{
 "cells": [
  {
   "cell_type": "markdown",
   "metadata": {},
   "source": [
    "# Homework Starter — Stage 04: Data Acquisition and Ingestion\n",
    "Name: Chuyu Wu\n",
    "Date: 8/16\n",
    "\n",
    "\n",
    "## Objectives\n",
    "- API ingestion with secrets in `.env`\n",
    "- Scrape a permitted public table\n",
    "- Validate and save raw data to `data/raw/`"
   ]
  },
  {
   "cell_type": "code",
   "execution_count": 8,
   "metadata": {},
   "outputs": [
    {
     "name": "stdout",
     "output_type": "stream",
     "text": [
      "ALPHAVANTAGE_API_KEY loaded? True\n"
     ]
    }
   ],
   "source": [
    "import os, pathlib, datetime as dt\n",
    "import requests\n",
    "import pandas as pd\n",
    "from bs4 import BeautifulSoup\n",
    "from dotenv import load_dotenv\n",
    "\n",
    "RAW = pathlib.Path('data/raw'); RAW.mkdir(parents=True, exist_ok=True)\n",
    "load_dotenv(); print('ALPHAVANTAGE_API_KEY loaded?', bool(os.getenv('ALPHAVANTAGE_API_KEY')))"
   ]
  },
  {
   "cell_type": "markdown",
   "metadata": {},
   "source": [
    "## Helpers (use or modify)"
   ]
  },
  {
   "cell_type": "code",
   "execution_count": 9,
   "metadata": {},
   "outputs": [],
   "source": [
    "def ts():\n",
    "    return dt.datetime.now().strftime('%Y%m%d-%H%M%S')\n",
    "\n",
    "def save_csv(df: pd.DataFrame, prefix: str, **meta):\n",
    "    mid = '_'.join([f\"{k}-{v}\" for k,v in meta.items()])\n",
    "    path = RAW / f\"{prefix}_{mid}_{ts()}.csv\"\n",
    "    df.to_csv(path, index=False)\n",
    "    print('Saved', path)\n",
    "    return path\n",
    "\n",
    "def validate(df: pd.DataFrame, required):\n",
    "    missing = [c for c in required if c not in df.columns]\n",
    "    return {'missing': missing, 'shape': df.shape, 'na_total': int(df.isna().sum().sum())}"
   ]
  },
  {
   "cell_type": "markdown",
   "metadata": {},
   "source": [
    "## Part 1 — API Pull (Required)\n",
    "Choose an endpoint (e.g., Alpha Vantage or use `yfinance` fallback)."
   ]
  },
  {
   "cell_type": "code",
   "execution_count": 10,
   "metadata": {},
   "outputs": [
    {
     "name": "stdout",
     "output_type": "stream",
     "text": [
      "{'Meta Data': {'1. Information': 'Daily Prices (open, high, low, close) and Volumes', '2. Symbol': 'AAPL', '3. Last Refreshed': '2025-08-15', '4. Output Size': 'Compact', '5. Time Zone': 'US/Eastern'}, 'Time Series (Daily)': {'2025-08-15': {'1. open': '234.0000', '2. high': '234.2800', '3. low': '229.3350', '4. close': '231.5900', '5. volume': '56038657'}, '2025-08-14': {'1. open': '234.0550', '2. high': '235.1200', '3. low': '230.8500', '4. close': '232.7800', '5. volume': '51916275'}, '2025-08-13': {'1. open': '231.0700', '2. high': '235.0000', '3. low': '230.4300', '4. close': '233.3300', '5. volume': '69878546'}, '2025-08-12': {'1. open': '228.0050', '2. high': '230.8000', '3. low': '227.0700', '4. close': '229.6500', '5. volume': '55672301'}, '2025-08-11': {'1. open': '227.9200', '2. high': '229.5600', '3. low': '224.7600', '4. close': '227.1800', '5. volume': '61806132'}, '2025-08-08': {'1. open': '220.8300', '2. high': '231.0000', '3. low': '219.2500', '4. close': '229.3500', '5. volume': '113853967'}, '2025-08-07': {'1. open': '218.8750', '2. high': '220.8500', '3. low': '216.5800', '4. close': '220.0300', '5. volume': '90224834'}, '2025-08-06': {'1. open': '205.6300', '2. high': '215.3800', '3. low': '205.5900', '4. close': '213.2500', '5. volume': '108483103'}, '2025-08-05': {'1. open': '203.4000', '2. high': '205.3400', '3. low': '202.1600', '4. close': '202.9200', '5. volume': '44155079'}, '2025-08-04': {'1. open': '204.5050', '2. high': '207.8800', '3. low': '201.6750', '4. close': '203.3500', '5. volume': '75109298'}, '2025-08-01': {'1. open': '210.8650', '2. high': '213.5800', '3. low': '201.5000', '4. close': '202.3800', '5. volume': '104434473'}, '2025-07-31': {'1. open': '208.4900', '2. high': '209.8400', '3. low': '207.1600', '4. close': '207.5700', '5. volume': '80698431'}, '2025-07-30': {'1. open': '211.8950', '2. high': '212.3900', '3. low': '207.7200', '4. close': '209.0500', '5. volume': '45512514'}, '2025-07-29': {'1. open': '214.1750', '2. high': '214.8100', '3. low': '210.8200', '4. close': '211.2700', '5. volume': '51411723'}, '2025-07-28': {'1. open': '214.0300', '2. high': '214.8450', '3. low': '213.0600', '4. close': '214.0500', '5. volume': '37858017'}, '2025-07-25': {'1. open': '214.7000', '2. high': '215.2400', '3. low': '213.4000', '4. close': '213.8800', '5. volume': '40268781'}, '2025-07-24': {'1. open': '213.9000', '2. high': '215.6900', '3. low': '213.5300', '4. close': '213.7600', '5. volume': '46022620'}, '2025-07-23': {'1. open': '215.0000', '2. high': '215.1500', '3. low': '212.4100', '4. close': '214.1500', '5. volume': '46989301'}, '2025-07-22': {'1. open': '213.1400', '2. high': '214.9500', '3. low': '212.2301', '4. close': '214.4000', '5. volume': '46404072'}, '2025-07-21': {'1. open': '212.1000', '2. high': '215.7800', '3. low': '211.6300', '4. close': '212.4800', '5. volume': '51377434'}, '2025-07-18': {'1. open': '210.8700', '2. high': '211.7900', '3. low': '209.7045', '4. close': '211.1800', '5. volume': '48974591'}, '2025-07-17': {'1. open': '210.5700', '2. high': '211.8000', '3. low': '209.5900', '4. close': '210.0200', '5. volume': '48068141'}, '2025-07-16': {'1. open': '210.2950', '2. high': '212.4000', '3. low': '208.6400', '4. close': '210.1600', '5. volume': '47490532'}, '2025-07-15': {'1. open': '209.2200', '2. high': '211.8900', '3. low': '208.9200', '4. close': '209.1100', '5. volume': '42296339'}, '2025-07-14': {'1. open': '209.9250', '2. high': '210.9100', '3. low': '207.5400', '4. close': '208.6200', '5. volume': '38840111'}, '2025-07-11': {'1. open': '210.5650', '2. high': '212.1300', '3. low': '209.8600', '4. close': '211.1600', '5. volume': '39765812'}, '2025-07-10': {'1. open': '210.5050', '2. high': '213.4800', '3. low': '210.0300', '4. close': '212.4100', '5. volume': '44443635'}, '2025-07-09': {'1. open': '209.5300', '2. high': '211.3300', '3. low': '207.2200', '4. close': '211.1400', '5. volume': '48749367'}, '2025-07-08': {'1. open': '210.1000', '2. high': '211.4300', '3. low': '208.4500', '4. close': '210.0100', '5. volume': '42848928'}, '2025-07-07': {'1. open': '212.6800', '2. high': '216.2300', '3. low': '208.8000', '4. close': '209.9500', '5. volume': '50228984'}, '2025-07-03': {'1. open': '212.1450', '2. high': '214.6500', '3. low': '211.8101', '4. close': '213.5500', '5. volume': '34955836'}, '2025-07-02': {'1. open': '208.9100', '2. high': '213.3400', '3. low': '208.1400', '4. close': '212.4400', '5. volume': '67941811'}, '2025-07-01': {'1. open': '206.6650', '2. high': '210.1865', '3. low': '206.1401', '4. close': '207.8200', '5. volume': '78788867'}, '2025-06-30': {'1. open': '202.0100', '2. high': '207.3900', '3. low': '199.2607', '4. close': '205.1700', '5. volume': '91912816'}, '2025-06-27': {'1. open': '201.8900', '2. high': '203.2200', '3. low': '200.0000', '4. close': '201.0800', '5. volume': '73188571'}, '2025-06-26': {'1. open': '201.4300', '2. high': '202.6400', '3. low': '199.4600', '4. close': '201.0000', '5. volume': '50799121'}, '2025-06-25': {'1. open': '201.4500', '2. high': '203.6700', '3. low': '200.6201', '4. close': '201.5600', '5. volume': '39525730'}, '2025-06-24': {'1. open': '202.5900', '2. high': '203.4400', '3. low': '200.2000', '4. close': '200.3000', '5. volume': '54064033'}, '2025-06-23': {'1. open': '201.6250', '2. high': '202.3000', '3. low': '198.9600', '4. close': '201.5000', '5. volume': '55814272'}, '2025-06-20': {'1. open': '198.2350', '2. high': '201.7000', '3. low': '196.8550', '4. close': '201.0000', '5. volume': '96813542'}, '2025-06-18': {'1. open': '195.9400', '2. high': '197.5700', '3. low': '195.0700', '4. close': '196.5800', '5. volume': '45394689'}, '2025-06-17': {'1. open': '197.2000', '2. high': '198.3900', '3. low': '195.2100', '4. close': '195.6400', '5. volume': '38856152'}, '2025-06-16': {'1. open': '197.3000', '2. high': '198.6850', '3. low': '196.5636', '4. close': '198.4200', '5. volume': '43020691'}, '2025-06-13': {'1. open': '199.7300', '2. high': '200.3700', '3. low': '195.7000', '4. close': '196.4500', '5. volume': '51447349'}, '2025-06-12': {'1. open': '199.0800', '2. high': '199.6800', '3. low': '197.3601', '4. close': '199.2000', '5. volume': '43904635'}, '2025-06-11': {'1. open': '203.5000', '2. high': '204.5000', '3. low': '198.4100', '4. close': '198.7800', '5. volume': '60989857'}, '2025-06-10': {'1. open': '200.6000', '2. high': '204.3500', '3. low': '200.5700', '4. close': '202.6700', '5. volume': '54672608'}, '2025-06-09': {'1. open': '204.3900', '2. high': '206.0000', '3. low': '200.0200', '4. close': '201.4500', '5. volume': '72862557'}, '2025-06-06': {'1. open': '203.0000', '2. high': '205.7000', '3. low': '202.0500', '4. close': '203.9200', '5. volume': '46607693'}, '2025-06-05': {'1. open': '203.5000', '2. high': '204.7500', '3. low': '200.1500', '4. close': '200.6300', '5. volume': '55221235'}, '2025-06-04': {'1. open': '202.9100', '2. high': '206.2400', '3. low': '202.1000', '4. close': '202.8200', '5. volume': '43603985'}, '2025-06-03': {'1. open': '201.3500', '2. high': '203.7700', '3. low': '200.9550', '4. close': '203.2700', '5. volume': '46381567'}, '2025-06-02': {'1. open': '200.2800', '2. high': '202.1300', '3. low': '200.1200', '4. close': '201.7000', '5. volume': '35423294'}, '2025-05-30': {'1. open': '199.3700', '2. high': '201.9600', '3. low': '196.7800', '4. close': '200.8500', '5. volume': '70819942'}, '2025-05-29': {'1. open': '203.5750', '2. high': '203.8100', '3. low': '198.5100', '4. close': '199.9500', '5. volume': '51477938'}, '2025-05-28': {'1. open': '200.5900', '2. high': '202.7300', '3. low': '199.9000', '4. close': '200.4200', '5. volume': '45339678'}, '2025-05-27': {'1. open': '198.3000', '2. high': '200.7400', '3. low': '197.4300', '4. close': '200.2100', '5. volume': '56288475'}, '2025-05-23': {'1. open': '193.6650', '2. high': '197.7000', '3. low': '193.4600', '4. close': '195.2700', '5. volume': '78432918'}, '2025-05-22': {'1. open': '200.7100', '2. high': '202.7500', '3. low': '199.7000', '4. close': '201.3600', '5. volume': '46742407'}, '2025-05-21': {'1. open': '205.1700', '2. high': '207.0400', '3. low': '200.7100', '4. close': '202.0900', '5. volume': '59211774'}, '2025-05-20': {'1. open': '207.6700', '2. high': '208.4700', '3. low': '205.0300', '4. close': '206.8600', '5. volume': '42496635'}, '2025-05-19': {'1. open': '207.9100', '2. high': '209.4800', '3. low': '204.2600', '4. close': '208.7800', '5. volume': '46140527'}, '2025-05-16': {'1. open': '212.3600', '2. high': '212.5700', '3. low': '209.7700', '4. close': '211.2600', '5. volume': '54737850'}, '2025-05-15': {'1. open': '210.9500', '2. high': '212.9600', '3. low': '209.5400', '4. close': '211.4500', '5. volume': '45029473'}, '2025-05-14': {'1. open': '212.4300', '2. high': '213.9400', '3. low': '210.5801', '4. close': '212.3300', '5. volume': '49325825'}, '2025-05-13': {'1. open': '210.4300', '2. high': '213.4000', '3. low': '209.0000', '4. close': '212.9300', '5. volume': '51909332'}, '2025-05-12': {'1. open': '210.9700', '2. high': '211.2679', '3. low': '206.7500', '4. close': '210.7900', '5. volume': '63775814'}, '2025-05-09': {'1. open': '199.0000', '2. high': '200.5399', '3. low': '197.5350', '4. close': '198.5300', '5. volume': '36453923'}, '2025-05-08': {'1. open': '197.7200', '2. high': '200.0500', '3. low': '194.6796', '4. close': '197.4900', '5. volume': '50478872'}, '2025-05-07': {'1. open': '199.1700', '2. high': '199.4400', '3. low': '193.2500', '4. close': '196.2500', '5. volume': '68616943'}, '2025-05-06': {'1. open': '198.2100', '2. high': '200.6500', '3. low': '197.0200', '4. close': '198.5100', '5. volume': '51216482'}, '2025-05-05': {'1. open': '203.1000', '2. high': '204.1000', '3. low': '198.2100', '4. close': '198.8900', '5. volume': '69018452'}, '2025-05-02': {'1. open': '206.0900', '2. high': '206.9900', '3. low': '202.1600', '4. close': '205.3500', '5. volume': '101010621'}, '2025-05-01': {'1. open': '209.0800', '2. high': '214.5600', '3. low': '208.9000', '4. close': '213.3200', '5. volume': '57365675'}, '2025-04-30': {'1. open': '209.3000', '2. high': '213.5800', '3. low': '206.6705', '4. close': '212.5000', '5. volume': '52286454'}, '2025-04-29': {'1. open': '208.6930', '2. high': '212.2400', '3. low': '208.3700', '4. close': '211.2100', '5. volume': '36827633'}, '2025-04-28': {'1. open': '210.0000', '2. high': '211.5000', '3. low': '207.4600', '4. close': '210.1400', '5. volume': '38743074'}, '2025-04-25': {'1. open': '206.3650', '2. high': '209.7500', '3. low': '206.2000', '4. close': '209.2800', '5. volume': '38222258'}, '2025-04-24': {'1. open': '204.8900', '2. high': '208.8299', '3. low': '202.9400', '4. close': '208.3700', '5. volume': '47310989'}, '2025-04-23': {'1. open': '206.0000', '2. high': '208.0000', '3. low': '202.7990', '4. close': '204.6000', '5. volume': '52929165'}, '2025-04-22': {'1. open': '196.1200', '2. high': '201.5900', '3. low': '195.9700', '4. close': '199.7400', '5. volume': '52976371'}, '2025-04-21': {'1. open': '193.2650', '2. high': '193.8000', '3. low': '189.8112', '4. close': '193.1600', '5. volume': '46742537'}, '2025-04-17': {'1. open': '197.2000', '2. high': '198.8335', '3. low': '194.4200', '4. close': '196.9800', '5. volume': '52164675'}, '2025-04-16': {'1. open': '198.3600', '2. high': '200.7000', '3. low': '192.3700', '4. close': '194.2700', '5. volume': '59732423'}, '2025-04-15': {'1. open': '201.8550', '2. high': '203.5100', '3. low': '199.8000', '4. close': '202.1400', '5. volume': '51343872'}, '2025-04-14': {'1. open': '211.4400', '2. high': '212.9400', '3. low': '201.1621', '4. close': '202.5200', '5. volume': '101352911'}, '2025-04-11': {'1. open': '186.1000', '2. high': '199.5400', '3. low': '186.0600', '4. close': '198.1500', '5. volume': '87435915'}, '2025-04-10': {'1. open': '189.0650', '2. high': '194.7799', '3. low': '183.0000', '4. close': '190.4200', '5. volume': '121879981'}, '2025-04-09': {'1. open': '171.9500', '2. high': '200.6100', '3. low': '171.8900', '4. close': '198.8500', '5. volume': '184395885'}, '2025-04-08': {'1. open': '186.7000', '2. high': '190.3350', '3. low': '169.2101', '4. close': '172.4200', '5. volume': '120859491'}, '2025-04-07': {'1. open': '177.2000', '2. high': '194.1500', '3. low': '174.6200', '4. close': '181.4600', '5. volume': '160466286'}, '2025-04-04': {'1. open': '193.8900', '2. high': '199.8800', '3. low': '187.3400', '4. close': '188.3800', '5. volume': '125910913'}, '2025-04-03': {'1. open': '205.5400', '2. high': '207.4900', '3. low': '201.2500', '4. close': '203.1900', '5. volume': '103419006'}, '2025-04-02': {'1. open': '221.3150', '2. high': '225.1900', '3. low': '221.0200', '4. close': '223.8900', '5. volume': '35905904'}, '2025-04-01': {'1. open': '219.8050', '2. high': '223.6800', '3. low': '218.9000', '4. close': '223.1900', '5. volume': '36412740'}, '2025-03-31': {'1. open': '217.0050', '2. high': '225.6200', '3. low': '216.2300', '4. close': '222.1300', '5. volume': '65299321'}, '2025-03-28': {'1. open': '221.6700', '2. high': '223.8100', '3. low': '217.6800', '4. close': '217.9000', '5. volume': '39818617'}, '2025-03-27': {'1. open': '221.3900', '2. high': '224.9900', '3. low': '220.5601', '4. close': '223.8500', '5. volume': '37094774'}, '2025-03-26': {'1. open': '223.5100', '2. high': '225.0200', '3. low': '220.4700', '4. close': '221.5300', '5. volume': '34532656'}, '2025-03-25': {'1. open': '220.7700', '2. high': '224.1000', '3. low': '220.0800', '4. close': '223.7500', '5. volume': '34493583'}}}\n"
     ]
    },
    {
     "data": {
      "text/plain": [
       "{'missing': [], 'shape': (100, 1), 'na_total': 0}"
      ]
     },
     "execution_count": 10,
     "metadata": {},
     "output_type": "execute_result"
    }
   ],
   "source": [
    "SYMBOL = 'AAPL'\n",
    "USE_ALPHA = bool(os.getenv('ALPHAVANTAGE_API_KEY'))\n",
    "if USE_ALPHA:\n",
    "    url = 'https://www.alphavantage.co/query'\n",
    "    params = {'function':'TIME_SERIES_DAILY','symbol':SYMBOL,'outputsize':'compact','apikey':os.getenv('ALPHAVANTAGE_API_KEY')}\n",
    "    r = requests.get(url, params=params, timeout=30)\n",
    "    r.raise_for_status()\n",
    "    js = r.json()\n",
    "    print(js)\n",
    "    key = [k for k in js if 'Time Series' in k][0]\n",
    "    df_api = pd.DataFrame(js[key]).T.reset_index().rename(columns={'index':'date'})[['date']]\n",
    "    df_api['date'] = pd.to_datetime(df_api['date'])\n",
    "\n",
    "v_api = validate(df_api, ['date']); v_api"
   ]
  },
  {
   "cell_type": "code",
   "execution_count": 11,
   "id": "762cd7d9",
   "metadata": {},
   "outputs": [
    {
     "name": "stdout",
     "output_type": "stream",
     "text": [
      "Requirement already satisfied: yfinance in c:\\users\\go199\\anaconda3\\envs\\stage2\\lib\\site-packages (0.2.65)\n",
      "Requirement already satisfied: pandas>=1.3.0 in c:\\users\\go199\\anaconda3\\envs\\stage2\\lib\\site-packages (from yfinance) (2.3.1)\n",
      "Requirement already satisfied: numpy>=1.16.5 in c:\\users\\go199\\anaconda3\\envs\\stage2\\lib\\site-packages (from yfinance) (2.0.1)\n",
      "Requirement already satisfied: requests>=2.31 in c:\\users\\go199\\anaconda3\\envs\\stage2\\lib\\site-packages (from yfinance) (2.32.4)\n",
      "Requirement already satisfied: multitasking>=0.0.7 in c:\\users\\go199\\anaconda3\\envs\\stage2\\lib\\site-packages (from yfinance) (0.0.12)\n",
      "Requirement already satisfied: platformdirs>=2.0.0 in c:\\users\\go199\\anaconda3\\envs\\stage2\\lib\\site-packages (from yfinance) (4.3.8)\n",
      "Requirement already satisfied: pytz>=2022.5 in c:\\users\\go199\\anaconda3\\envs\\stage2\\lib\\site-packages (from yfinance) (2025.2)\n",
      "Requirement already satisfied: frozendict>=2.3.4 in c:\\users\\go199\\anaconda3\\envs\\stage2\\lib\\site-packages (from yfinance) (2.4.6)\n",
      "Requirement already satisfied: peewee>=3.16.2 in c:\\users\\go199\\anaconda3\\envs\\stage2\\lib\\site-packages (from yfinance) (3.18.2)\n",
      "Requirement already satisfied: beautifulsoup4>=4.11.1 in c:\\users\\go199\\anaconda3\\envs\\stage2\\lib\\site-packages (from yfinance) (4.13.4)\n",
      "Requirement already satisfied: curl_cffi>=0.7 in c:\\users\\go199\\anaconda3\\envs\\stage2\\lib\\site-packages (from yfinance) (0.13.0)\n",
      "Requirement already satisfied: protobuf>=3.19.0 in c:\\users\\go199\\anaconda3\\envs\\stage2\\lib\\site-packages (from yfinance) (6.32.0)\n",
      "Requirement already satisfied: websockets>=13.0 in c:\\users\\go199\\anaconda3\\envs\\stage2\\lib\\site-packages (from yfinance) (15.0.1)\n",
      "Requirement already satisfied: soupsieve>1.2 in c:\\users\\go199\\anaconda3\\envs\\stage2\\lib\\site-packages (from beautifulsoup4>=4.11.1->yfinance) (2.7)\n",
      "Requirement already satisfied: typing-extensions>=4.0.0 in c:\\users\\go199\\anaconda3\\envs\\stage2\\lib\\site-packages (from beautifulsoup4>=4.11.1->yfinance) (4.14.1)\n",
      "Requirement already satisfied: cffi>=1.12.0 in c:\\users\\go199\\anaconda3\\envs\\stage2\\lib\\site-packages (from curl_cffi>=0.7->yfinance) (1.17.1)\n",
      "Requirement already satisfied: certifi>=2024.2.2 in c:\\users\\go199\\anaconda3\\envs\\stage2\\lib\\site-packages (from curl_cffi>=0.7->yfinance) (2025.8.3)\n",
      "Requirement already satisfied: pycparser in c:\\users\\go199\\anaconda3\\envs\\stage2\\lib\\site-packages (from cffi>=1.12.0->curl_cffi>=0.7->yfinance) (2.22)\n",
      "Requirement already satisfied: python-dateutil>=2.8.2 in c:\\users\\go199\\anaconda3\\envs\\stage2\\lib\\site-packages (from pandas>=1.3.0->yfinance) (2.9.0.post0)\n",
      "Requirement already satisfied: tzdata>=2022.7 in c:\\users\\go199\\anaconda3\\envs\\stage2\\lib\\site-packages (from pandas>=1.3.0->yfinance) (2025.2)\n",
      "Requirement already satisfied: six>=1.5 in c:\\users\\go199\\anaconda3\\envs\\stage2\\lib\\site-packages (from python-dateutil>=2.8.2->pandas>=1.3.0->yfinance) (1.17.0)\n",
      "Requirement already satisfied: charset_normalizer<4,>=2 in c:\\users\\go199\\anaconda3\\envs\\stage2\\lib\\site-packages (from requests>=2.31->yfinance) (3.4.3)\n",
      "Requirement already satisfied: idna<4,>=2.5 in c:\\users\\go199\\anaconda3\\envs\\stage2\\lib\\site-packages (from requests>=2.31->yfinance) (3.10)\n",
      "Requirement already satisfied: urllib3<3,>=1.21.1 in c:\\users\\go199\\anaconda3\\envs\\stage2\\lib\\site-packages (from requests>=2.31->yfinance) (2.5.0)\n",
      "Note: you may need to restart the kernel to use updated packages.\n"
     ]
    }
   ],
   "source": [
    "%pip install yfinance\n",
    "# Install yfinance for fallback API data pull if needed"
   ]
  },
  {
   "cell_type": "code",
   "execution_count": 12,
   "metadata": {},
   "outputs": [
    {
     "name": "stdout",
     "output_type": "stream",
     "text": [
      "Saved data\\raw\\api_source-alpha_symbol-AAPL_20250818-211552.csv\n"
     ]
    }
   ],
   "source": [
    "_ = save_csv(df_api.sort_values('date'), prefix='api', source='alpha' if USE_ALPHA else 'yfinance', symbol=SYMBOL)"
   ]
  },
  {
   "cell_type": "markdown",
   "metadata": {},
   "source": [
    "## Part 2 — Scrape a Public Table (Required)\n",
    "Replace `SCRAPE_URL` with a permitted page containing a simple table."
   ]
  },
  {
   "cell_type": "code",
   "execution_count": null,
   "metadata": {},
   "outputs": [
    {
     "data": {
      "text/plain": [
       "{'missing': [], 'shape': (25, 12), 'na_total': 25}"
      ]
     },
     "execution_count": 13,
     "metadata": {},
     "output_type": "execute_result"
    }
   ],
   "source": [
    "SCRAPE_URL = 'https://sg.finance.yahoo.com/markets/stocks/gainers/'  \n",
    "headers = {'User-Agent':'AFE-Homework/1.0'}\n",
    "try:\n",
    "    resp = requests.get(SCRAPE_URL, headers=headers, timeout=30); resp.raise_for_status()\n",
    "    soup = BeautifulSoup(resp.text, 'html.parser')\n",
    "    rows = [[c.get_text(strip=True) for c in tr.find_all(['th','td'])] for tr in soup.find_all('tr')]\n",
    "    header, *data = [r for r in rows if r]\n",
    "    df_scrape = pd.DataFrame(data, columns=header)\n",
    "except Exception as e:\n",
    "    print('Scrape failed, using inline demo table:', e)\n",
    "    html = '<table><tr><th>Ticker</th><th>Price</th></tr><tr><td>AAA</td><td>101.2</td></tr></table>'\n",
    "    soup = BeautifulSoup(html, 'html.parser')\n",
    "    rows = [[c.get_text(strip=True) for c in tr.find_all(['th','td'])] for tr in soup.find_all('tr')]\n",
    "    header, *data = [r for r in rows if r]\n",
    "    df_scrape = pd.DataFrame(data, columns=header)\n",
    "\n",
    "if 'Price' in df_scrape.columns:\n",
    "    df_scrape['Price'] = pd.to_numeric(df_scrape['Price'], errors='coerce')\n",
    "v_scrape = validate(df_scrape, list(df_scrape.columns)); v_scrape"
   ]
  },
  {
   "cell_type": "code",
   "execution_count": 14,
   "metadata": {},
   "outputs": [
    {
     "name": "stdout",
     "output_type": "stream",
     "text": [
      "Saved data\\raw\\scrape_site-example_table-markets_20250818-211556.csv\n"
     ]
    }
   ],
   "source": [
    "_ = save_csv(df_scrape, prefix='scrape', site='example', table='markets')"
   ]
  },
  {
   "cell_type": "markdown",
   "metadata": {},
   "source": [
    "## Documentation\n",
    "- API Source: (URL/endpoint/params)\n",
    "- Scrape Source: (URL/table description)\n",
    "- Assumptions & risks: (rate limits, selector fragility, schema changes)\n",
    "- Confirm `.env` is not committed."
   ]
  }
 ],
 "metadata": {
  "kernelspec": {
   "display_name": "stage2",
   "language": "python",
   "name": "python3"
  },
  "language_info": {
   "codemirror_mode": {
    "name": "ipython",
    "version": 3
   },
   "file_extension": ".py",
   "mimetype": "text/x-python",
   "name": "python",
   "nbconvert_exporter": "python",
   "pygments_lexer": "ipython3",
   "version": "3.11.13"
  }
 },
 "nbformat": 4,
 "nbformat_minor": 5
}
