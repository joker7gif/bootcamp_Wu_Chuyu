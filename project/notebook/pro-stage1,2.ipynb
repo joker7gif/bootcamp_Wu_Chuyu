{
 "cells": [
  {
   "cell_type": "code",
   "execution_count": null,
   "id": "c5bdffdc",
   "metadata": {},
   "outputs": [
    {
     "name": "stdout",
     "output_type": "stream",
     "text": [
      "                                 Open        High         Low       Close  \\\n",
      "Date                                                                        \n",
      "2022-08-23 00:00:00-04:00  291.453339  298.826660  287.923340  296.453339   \n",
      "2022-08-24 00:00:00-04:00  297.563324  303.646667  296.500000  297.096680   \n",
      "2022-08-25 00:00:00-04:00  302.359985  302.959991  291.600006  296.070007   \n",
      "2022-08-26 00:00:00-04:00  297.429993  302.000000  287.470001  288.089996   \n",
      "2022-08-29 00:00:00-04:00  282.829987  287.739990  280.700012  284.820007   \n",
      "\n",
      "                             Volume  Dividends  Stock Splits  \n",
      "Date                                                          \n",
      "2022-08-23 00:00:00-04:00  63984900        0.0           0.0  \n",
      "2022-08-24 00:00:00-04:00  57259800        0.0           0.0  \n",
      "2022-08-25 00:00:00-04:00  53230000        0.0           3.0  \n",
      "2022-08-26 00:00:00-04:00  57163900        0.0           0.0  \n",
      "2022-08-29 00:00:00-04:00  41864700        0.0           0.0  \n"
     ]
    }
   ],
   "source": [
    "import yfinance as yf\n",
    "\n",
    "ticker = yf.Ticker(\"TSLA\")\n",
    "df = ticker.history(period=\"3y\")  \n",
    "df.to_csv(\"data/TSLA.csv\")\n",
    "print(df.head())\n"
   ]
  },
  {
   "cell_type": "markdown",
   "id": "54a00977",
   "metadata": {},
   "source": [
    "# stage2:Done (refer to README)"
   ]
  }
 ],
 "metadata": {
  "kernelspec": {
   "display_name": "stage2",
   "language": "python",
   "name": "python3"
  },
  "language_info": {
   "codemirror_mode": {
    "name": "ipython",
    "version": 3
   },
   "file_extension": ".py",
   "mimetype": "text/x-python",
   "name": "python",
   "nbconvert_exporter": "python",
   "pygments_lexer": "ipython3",
   "version": "3.11.13"
  }
 },
 "nbformat": 4,
 "nbformat_minor": 5
}
