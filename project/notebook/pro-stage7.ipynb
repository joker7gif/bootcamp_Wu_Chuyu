{
 "cells": [
  {
   "cell_type": "code",
   "execution_count": null,
   "id": "c9ef440a",
   "metadata": {},
   "outputs": [
    {
     "name": "stdout",
     "output_type": "stream",
     "text": [
      "[load_processed_data] Loaded from C:\\Users\\go199\\Desktop\\PY HW\\bootcamp_Wu_Chuyu\\project\\notebook\\data\\processed\\TSLA_cleaned.csv\n",
      "Before removing outliers: (38, 6)\n",
      "After removing outliers: (38, 6)\n",
      "[save_processed_data] Saved to C:\\Users\\go199\\Desktop\\PY HW\\bootcamp_Wu_Chuyu\\project\\notebook\\data\\processed\\TSLA_no_outliers.csv\n",
      "Outlier-cleaned data saved to /data/processed/TSLA_no_outliers.csv\n"
     ]
    }
   ],
   "source": [
    "import sys\n",
    "import pandas as pd\n",
    "\n",
    "\n",
    "sys.path.append('../') \n",
    "\n",
    "from src1.data_io import load_processed_data, save_processed_data\n",
    "from src1.outliers import remove_outliers_iqr\n",
    "\n",
    "# === 加载清洗后的数据（Stage 6 输出） ===\n",
    "df_cleaned = load_processed_data(\"TSLA_cleaned.csv\")\n",
    "print(\"Before removing outliers:\", df_cleaned.shape)\n",
    "\n",
    "# === 调用 outlier 函数 ===\n",
    "df_no_outliers = remove_outliers_iqr(\n",
    "    df_cleaned,\n",
    "    columns=[\"Open\", \"High\", \"Low\", \"Close\", \"Volume\"],\n",
    "    k=1.5\n",
    ")\n",
    "print(\"After removing outliers:\", df_no_outliers.shape)\n",
    "\n",
    "# === 保存结果（可选） ===\n",
    "save_processed_data(df_no_outliers, \"TSLA_no_outliers.csv\")\n",
    "print(\"Outlier-cleaned data saved to /data/processed/TSLA_no_outliers.csv\")\n",
    "\n"
   ]
  }
 ],
 "metadata": {
  "kernelspec": {
   "display_name": "stage2",
   "language": "python",
   "name": "python3"
  },
  "language_info": {
   "codemirror_mode": {
    "name": "ipython",
    "version": 3
   },
   "file_extension": ".py",
   "mimetype": "text/x-python",
   "name": "python",
   "nbconvert_exporter": "python",
   "pygments_lexer": "ipython3",
   "version": "3.11.13"
  }
 },
 "nbformat": 4,
 "nbformat_minor": 5
}
