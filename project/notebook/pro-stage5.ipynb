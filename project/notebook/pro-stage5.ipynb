{
 "cells": [
  {
   "cell_type": "code",
   "execution_count": 2,
   "id": "0b0fca9f",
   "metadata": {},
   "outputs": [
    {
     "name": "stderr",
     "output_type": "stream",
     "text": [
      "C:\\Users\\go199\\AppData\\Local\\Temp\\ipykernel_6332\\3401964509.py:12: FutureWarning: YF.download() has changed argument auto_adjust default to True\n",
      "  df = yf.download(\"TSLA\", start=\"2023-01-01\", end=\"2023-03-01\")\n",
      "[*********************100%***********************]  1 of 1 completed"
     ]
    },
    {
     "name": "stdout",
     "output_type": "stream",
     "text": [
      "[save_raw_data] Saved to C:\\Users\\go199\\Desktop\\PY HW\\bootcamp_Wu_Chuyu\\project\\notebook\\data\\raw\\TSLA_data.csv\n",
      "[save_processed_data] Saved to C:\\Users\\go199\\Desktop\\PY HW\\bootcamp_Wu_Chuyu\\project\\notebook\\data\\processed\\TSLA_data.parquet\n",
      "[load_raw_data] Loaded from C:\\Users\\go199\\Desktop\\PY HW\\bootcamp_Wu_Chuyu\\project\\notebook\\data\\raw\\TSLA_data.csv\n",
      "Raw data preview:\n",
      "         Date               Close                High                 Low  \\\n",
      "0         NaN                TSLA                TSLA                TSLA   \n",
      "1  2023-01-03   108.0999984741211  118.80000305175781  104.63999938964844   \n",
      "2  2023-01-04  113.63999938964844  114.58999633789062   107.5199966430664   \n",
      "3  2023-01-05  110.33999633789062              111.75  107.16000366210938   \n",
      "4  2023-01-06  113.05999755859375  114.38999938964844  101.80999755859375   \n",
      "\n",
      "                 Open     Volume  \n",
      "0                TSLA       TSLA  \n",
      "1  118.47000122070312  231402800  \n",
      "2  109.11000061035156  180389000  \n",
      "3  110.51000213623047  157986300  \n",
      "4               103.0  220911100  \n",
      "[load_processed_data] Loaded from C:\\Users\\go199\\Desktop\\PY HW\\bootcamp_Wu_Chuyu\\project\\notebook\\data\\processed\\TSLA_data.parquet\n",
      "Processed data preview:\n",
      "Price        Date       Close        High         Low        Open     Volume\n",
      "Ticker                   TSLA        TSLA        TSLA        TSLA       TSLA\n",
      "0      2023-01-03  108.099998  118.800003  104.639999  118.470001  231402800\n",
      "1      2023-01-04  113.639999  114.589996  107.519997  109.110001  180389000\n",
      "2      2023-01-05  110.339996  111.750000  107.160004  110.510002  157986300\n",
      "3      2023-01-06  113.059998  114.389999  101.809998  103.000000  220911100\n",
      "4      2023-01-09  119.769997  123.519997  117.110001  118.959999  190284000\n"
     ]
    },
    {
     "name": "stderr",
     "output_type": "stream",
     "text": [
      "\n"
     ]
    }
   ],
   "source": [
    "import sys\n",
    "from pathlib import Path\n",
    "\n",
    "# 找到项目根目录（假设notebook文件夹在项目根目录下）\n",
    "project_root = Path.cwd().parent   # 当前工作目录是notebook，就回到上一级\n",
    "sys.path.append(str(project_root))\n",
    "\n",
    "from src1.data_io import save_raw_data, save_processed_data, load_raw_data, load_processed_data\n",
    "import yfinance as yf\n",
    "\n",
    "# 获取示例数据：TSLA 股票价格\n",
    "df = yf.download(\"TSLA\", start=\"2023-01-01\", end=\"2023-03-01\")\n",
    "\n",
    "# 保存原始数据（CSV）\n",
    "save_raw_data(df.reset_index(), \"TSLA_data.csv\")\n",
    "\n",
    "# 保存处理后数据（Parquet）\n",
    "save_processed_data(df.reset_index(), \"TSLA_data.parquet\")\n",
    "\n",
    "# 读取原始数据\n",
    "df_raw = load_raw_data(\"TSLA_data.csv\")\n",
    "print(\"Raw data preview:\")\n",
    "print(df_raw.head())\n",
    "\n",
    "# 读取处理后数据\n",
    "df_processed = load_processed_data(\"TSLA_data.parquet\")\n",
    "print(\"Processed data preview:\")\n",
    "print(df_processed.head())\n"
   ]
  }
 ],
 "metadata": {
  "kernelspec": {
   "display_name": "stage2",
   "language": "python",
   "name": "python3"
  },
  "language_info": {
   "codemirror_mode": {
    "name": "ipython",
    "version": 3
   },
   "file_extension": ".py",
   "mimetype": "text/x-python",
   "name": "python",
   "nbconvert_exporter": "python",
   "pygments_lexer": "ipython3",
   "version": "3.11.13"
  }
 },
 "nbformat": 4,
 "nbformat_minor": 5
}
