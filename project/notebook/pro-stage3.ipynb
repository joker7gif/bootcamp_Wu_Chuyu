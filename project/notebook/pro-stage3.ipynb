{
 "cells": [
  {
   "cell_type": "code",
   "execution_count": 1,
   "id": "79a2a694",
   "metadata": {},
   "outputs": [
    {
     "name": "stdout",
     "output_type": "stream",
     "text": [
      "Hello, Tesla!\n",
      "Array: [1 2 3 4 5]\n",
      "Mean: 3.0\n",
      "Standard Deviation: 1.4142135623730951\n",
      "        date  price\n",
      "0 2023-01-01    120\n",
      "1 2023-01-02    121\n",
      "2 2023-01-03    119\n",
      "3 2023-01-04    122\n",
      "4 2023-01-05    123\n",
      "Cleaned columns: Index(['date', 'price'], dtype='object')\n"
     ]
    }
   ],
   "source": [
    "\n",
    "def greet(name):\n",
    "    return f\"Hello, {name}!\"\n",
    "\n",
    "print(greet(\"Tesla\"))\n",
    "\n",
    "import numpy as np\n",
    "arr = np.array([1, 2, 3, 4, 5])\n",
    "print(\"Array:\", arr)\n",
    "print(\"Mean:\", np.mean(arr))\n",
    "print(\"Standard Deviation:\", np.std(arr))\n",
    "\n",
    "import pandas as pd\n",
    "data = {\n",
    "    \"date\": pd.date_range(start=\"2023-01-01\", periods=5, freq=\"D\"),\n",
    "    \"price\": [120, 121, 119, 122, 123]\n",
    "}\n",
    "df = pd.DataFrame(data)\n",
    "print(df.head())\n",
    "\n",
    "import sys, os\n",
    "sys.path.append(os.path.abspath(\"..\"))\n",
    "\n",
    "from src1.utils import clean_column_names\n",
    "df.columns = clean_column_names(df.columns)\n",
    "print(\"Cleaned columns:\", df.columns)\n"
   ]
  },
  {
   "cell_type": "markdown",
   "id": "b1084f37",
   "metadata": {},
   "source": [
    "# stage4:Done(refer to README)"
   ]
  }
 ],
 "metadata": {
  "kernelspec": {
   "display_name": "stage2",
   "language": "python",
   "name": "python3"
  },
  "language_info": {
   "codemirror_mode": {
    "name": "ipython",
    "version": 3
   },
   "file_extension": ".py",
   "mimetype": "text/x-python",
   "name": "python",
   "nbconvert_exporter": "python",
   "pygments_lexer": "ipython3",
   "version": "3.11.13"
  }
 },
 "nbformat": 4,
 "nbformat_minor": 5
}
